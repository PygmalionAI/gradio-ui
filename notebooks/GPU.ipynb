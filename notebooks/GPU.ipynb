{
  "cells": [
    {
      "cell_type": "markdown",
      "metadata": {
        "id": "view-in-github",
        "colab_type": "text"
      },
      "source": [
        "<a href=\"https://colab.research.google.com/github/PygmalionAI/gradio-ui/blob/feat/kai-integration/notebooks/GPU.ipynb\" target=\"_parent\"><img src=\"https://colab.research.google.com/assets/colab-badge.svg\" alt=\"Open In Colab\"/></a>"
      ]
    },
    {
      "cell_type": "code",
      "execution_count": null,
      "metadata": {
        "id": "hps3qtPLFNBb",
        "cellView": "form"
      },
      "outputs": [],
      "source": [
        "#@title Select your model below, then click the play button to start the UI.\n",
        "#@markdown Afterwards, just sit tight and wait - the link to the UI should show up after it's done starting up.\n",
        "\n",
        "Model = \"Pygmalion 6B\" #@param [\"Pygmalion 350M\", \"Pygmalion 1.3B\", \"Pygmalion 2.7B\", \"Pygmalion 6B\"] {allow-input: true}\n",
        "\n",
        "pretty_model_name_to_hf_name = {\n",
        "    \"Pygmalion 350M\": \"PygmalionAI/pygmalion-350m\",\n",
        "    \"Pygmalion 1.3B\": \"PygmalionAI/pygmalion-1.3b\",\n",
        "    \"Pygmalion 2.7B\": \"PygmalionAI/pygmalion-2.7b\",\n",
        "    \"Pygmalion 6B\": \"PygmalionAI/pygmalion-6b\",\n",
        "}\n",
        "\n",
        "model_name = pretty_model_name_to_hf_name[Model]\n",
        "\n",
        "# Copy-pasted from the Kobold notebook. Seems to be necessary for Henk's script\n",
        "# to work properly.\n",
        "import os\n",
        "if not os.path.exists(\"/content/drive\"):\n",
        "  os.mkdir(\"/content/drive\")\n",
        "if not os.path.exists(\"/content/drive/MyDrive/\"):\n",
        "  os.mkdir(\"/content/drive/MyDrive/\")\n",
        "\n",
        "# Use Henk's easy install code, but pass --init since we'll manually start the\n",
        "# server in the background later.\n",
        "!wget https://koboldai.org/ckds -O - | bash /dev/stdin --init only\n",
        "\n",
        "# Clone the UI repo and set it up.\n",
        "!git clone --depth=1 --branch=\"feat/kai-integration\" \\\n",
        "  \"https://github.com/PygmalionAI/gradio-ui.git\" \\\n",
        "  && cd gradio-ui && pip3 install -r requirements.txt\n",
        "\n",
        "# Start up Kobold in the background.\n",
        "# TODO: Figure out a way to keep logs in the foreground so the user knows what's\n",
        "# going on.\n",
        "print(\"\\n\\n\\n\")\n",
        "print(\"* The model is about to be downloaded and loaded into the GPU.\")\n",
        "print(\"* This takes several minutes, sit tight.\")\n",
        "print(\"* A link will show up when this step is completed, keep checking back every couple minutes or so.\")\n",
        "print(\"\\n\\n\\n\")\n",
        "os.system(f\"cd /content/KoboldAI-Client && python3 aiserver.py --noaimenu --host --port 80808 --model {model_name} --nobreakmodel --lowmem --quiet &\")\n",
        "\n",
        "# And start up the UI. It'll wait for Kobold to finish booting up before\n",
        "# printing out its URL.\n",
        "!python3 gradio-ui/src/app.py \\\n",
        "  --koboldai-url \"http://localhost:80808\" \\\n",
        "  --share"
      ]
    }
  ],
  "metadata": {
    "accelerator": "GPU",
    "colab": {
      "provenance": []
    },
    "gpuClass": "standard",
    "kernelspec": {
      "display_name": "Python 3",
      "name": "python3"
    },
    "language_info": {
      "name": "python"
    }
  },
  "nbformat": 4,
  "nbformat_minor": 0
}
